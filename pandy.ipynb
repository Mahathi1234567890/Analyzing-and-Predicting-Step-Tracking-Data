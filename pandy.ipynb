{
 "cells": [
  {
   "cell_type": "code",
   "execution_count": 24,
   "metadata": {},
   "outputs": [],
   "source": [
    "import pandas as pd\n"
   ]
  },
  {
   "cell_type": "code",
   "execution_count": 25,
   "metadata": {},
   "outputs": [
    {
     "name": "stdout",
     "output_type": "stream",
     "text": [
      "          DATE   STEPS  KILOMETERS  CALORIES BURNT\n",
      "0   2023-06-01  7609.0        5.59           295.0\n",
      "1   2023-06-02  3095.0        2.23           122.0\n",
      "2   2023-06-03  5479.0        3.99           213.0\n",
      "3   2023-06-04  2575.0        1.87           101.0\n",
      "4   2023-06-05  4726.0        3.34           186.0\n",
      "..         ...     ...         ...             ...\n",
      "167 2023-11-15  4775.0        3.56           186.0\n",
      "168 2023-11-16  5786.0        4.21           230.0\n",
      "169 2023-11-17  4984.0        3.66           200.0\n",
      "170 2023-11-18  6778.0        4.93           270.0\n",
      "171 2023-11-19  5313.0        3.90           209.0\n",
      "\n",
      "[172 rows x 4 columns]\n"
     ]
    }
   ],
   "source": [
    "file_path = \"Step tracking data.xlsx\"\n",
    "df = pd.read_excel(file_path)\n",
    "print(df)"
   ]
  },
  {
   "cell_type": "code",
   "execution_count": 26,
   "metadata": {},
   "outputs": [
    {
     "data": {
      "text/plain": [
       "DATE               0\n",
       "STEPS             31\n",
       "KILOMETERS        31\n",
       "CALORIES BURNT    31\n",
       "dtype: int64"
      ]
     },
     "execution_count": 26,
     "metadata": {},
     "output_type": "execute_result"
    }
   ],
   "source": [
    "df.isnull().sum()"
   ]
  },
  {
   "cell_type": "code",
   "execution_count": 27,
   "metadata": {},
   "outputs": [],
   "source": [
    "df.set_index('DATE', inplace=True)"
   ]
  },
  {
   "cell_type": "code",
   "execution_count": 28,
   "metadata": {},
   "outputs": [],
   "source": [
    "df.fillna(value=pd.NA, inplace=True)"
   ]
  },
  {
   "cell_type": "code",
   "execution_count": 29,
   "metadata": {},
   "outputs": [],
   "source": [
    "df.ffill(inplace=True)"
   ]
  },
  {
   "cell_type": "code",
   "execution_count": 30,
   "metadata": {},
   "outputs": [],
   "source": [
    "df.bfill(inplace=True)"
   ]
  },
  {
   "cell_type": "code",
   "execution_count": 31,
   "metadata": {},
   "outputs": [],
   "source": [
    "weekly_average_steps = df['STEPS'].resample('W').mean()"
   ]
  },
  {
   "cell_type": "code",
   "execution_count": 32,
   "metadata": {},
   "outputs": [
    {
     "name": "stdout",
     "output_type": "stream",
     "text": [
      "             STEPS  KILOMETERS  CALORIES BURNT\n",
      "DATE                                          \n",
      "2023-06-01  7609.0        5.59           295.0\n",
      "2023-06-02  3095.0        2.23           122.0\n",
      "2023-06-03  5479.0        3.99           213.0\n",
      "2023-06-04  2575.0        1.87           101.0\n",
      "2023-06-05  4726.0        3.34           186.0\n",
      "...            ...         ...             ...\n",
      "2023-11-15  4775.0        3.56           186.0\n",
      "2023-11-16  5786.0        4.21           230.0\n",
      "2023-11-17  4984.0        3.66           200.0\n",
      "2023-11-18  6778.0        4.93           270.0\n",
      "2023-11-19  5313.0        3.90           209.0\n",
      "\n",
      "[172 rows x 3 columns]\n"
     ]
    }
   ],
   "source": [
    "print(df)\n"
   ]
  },
  {
   "cell_type": "code",
   "execution_count": 33,
   "metadata": {},
   "outputs": [
    {
     "data": {
      "text/plain": [
       "STEPS             0\n",
       "KILOMETERS        0\n",
       "CALORIES BURNT    0\n",
       "dtype: int64"
      ]
     },
     "execution_count": 33,
     "metadata": {},
     "output_type": "execute_result"
    }
   ],
   "source": [
    "df.isnull().sum()"
   ]
  },
  {
   "cell_type": "code",
   "execution_count": 39,
   "metadata": {},
   "outputs": [],
   "source": [
    "output_csv_file = \"output_data3.xlsx\"\n",
    "# df.to_excel(output_csv_file)\n",
    "df.to_excel('output_data3.xlsx', index=False)\n"
   ]
  },
  {
   "cell_type": "code",
   "execution_count": null,
   "metadata": {},
   "outputs": [],
   "source": []
  }
 ],
 "metadata": {
  "kernelspec": {
   "display_name": "Python 3",
   "language": "python",
   "name": "python3"
  },
  "language_info": {
   "codemirror_mode": {
    "name": "ipython",
    "version": 3
   },
   "file_extension": ".py",
   "mimetype": "text/x-python",
   "name": "python",
   "nbconvert_exporter": "python",
   "pygments_lexer": "ipython3",
   "version": "3.10.6"
  }
 },
 "nbformat": 4,
 "nbformat_minor": 2
}
